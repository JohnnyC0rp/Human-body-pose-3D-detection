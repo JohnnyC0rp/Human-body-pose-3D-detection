{
 "cells": [
  {
   "cell_type": "code",
   "execution_count": 8,
   "metadata": {},
   "outputs": [],
   "source": [
    "import mediapipe as mp\n",
    "import cv2"
   ]
  },
  {
   "cell_type": "code",
   "execution_count": null,
   "metadata": {},
   "outputs": [],
   "source": [
    "## initialize pose estimator\n",
    "mp_drawing = mp.solutions.drawing_utils\n",
    "mp_pose = mp.solutions.pose\n",
    "pose = mp_pose.Pose(min_detection_confidence=0.5, min_tracking_confidence=0.5)\n",
    "pose"
   ]
  },
  {
   "cell_type": "code",
   "execution_count": null,
   "metadata": {},
   "outputs": [],
   "source": [
    "cap = cv2.VideoCapture(1)\n",
    "while cap.isOpened():\n",
    "    # read frame\n",
    "    _ , frame = cap.read()\n",
    "    try:\n",
    "         # resize the frame for portrait video\n",
    "         frame = cv2.resize(frame, (350, 600))\n",
    "         # convert to RGB\n",
    "         frame_rgb = cv2.cvtColor(frame, cv2.COLOR_BGR2RGB)\n",
    "         \n",
    "         # process the frame for pose detection\n",
    "         pose_results = pose.process(frame_rgb)\n",
    "         # print(pose_results.pose_landmarks)\n",
    "         \n",
    "         # draw skeleton on the frame\n",
    "         mp_drawing.draw_landmarks(frame, pose_results.pose_landmarks, mp_pose.POSE_CONNECTIONS)\n",
    "         print(pose_results.pose_landmarks)\n",
    "         # display the frame\n",
    "         cv2.imshow('Output', frame)\n",
    "    except:\n",
    "         break\n",
    "    \n",
    "    if cv2.waitKey(1) == ord('q'):\n",
    "          break\n",
    "          \n",
    "cap.release()\n",
    "cv2.destroyAllWindows()"
   ]
  },
  {
   "cell_type": "code",
   "execution_count": null,
   "metadata": {},
   "outputs": [],
   "source": []
  }
 ],
 "metadata": {
  "kernelspec": {
   "display_name": "Python 3",
   "language": "python",
   "name": "python3"
  },
  "language_info": {
   "codemirror_mode": {
    "name": "ipython",
    "version": 3
   },
   "file_extension": ".py",
   "mimetype": "text/x-python",
   "name": "python",
   "nbconvert_exporter": "python",
   "pygments_lexer": "ipython3",
   "version": "3.11.3"
  }
 },
 "nbformat": 4,
 "nbformat_minor": 2
}
